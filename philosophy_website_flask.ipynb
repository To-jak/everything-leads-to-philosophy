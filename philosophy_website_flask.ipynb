{
 "cells": [
  {
   "cell_type": "markdown",
   "metadata": {},
   "source": [
    "### Run flask web site"
   ]
  },
  {
   "cell_type": "code",
   "execution_count": null,
   "metadata": {},
   "outputs": [
    {
     "name": "stdout",
     "output_type": "stream",
     "text": [
      " * Serving Flask app \"site\" (lazy loading)\n",
      " * Environment: production\n",
      "   WARNING: This is a development server. Do not use it in a production deployment.\n",
      "   Use a production WSGI server instead.\n",
      " * Debug mode: off\n"
     ]
    },
    {
     "name": "stderr",
     "output_type": "stream",
     "text": [
      " * Running on http://127.0.0.1:5000/ (Press CTRL+C to quit)\n",
      "127.0.0.1 - - [13/Oct/2019 15:44:41] \"GET / HTTP/1.1\" 200 -\n",
      "C:\\Users\\sever\\OneDrive\\side_work\\Philosophy project\\philosophy_source.py:8: UserWarning: No parser was explicitly specified, so I'm using the best available HTML parser for this system (\"lxml\"). This usually isn't a problem, but if you run this code on another system, or in a different virtual environment, it may use a different parser and behave differently.\n",
      "\n",
      "The code that caused this warning is on line 8 of the file C:\\Users\\sever\\OneDrive\\side_work\\Philosophy project\\philosophy_source.py. To get rid of this warning, pass the additional argument 'features=\"lxml\"' to the BeautifulSoup constructor.\n",
      "\n",
      "  return BeautifulSoup(page.text)\n",
      "127.0.0.1 - - [13/Oct/2019 15:44:56] \"POST / HTTP/1.1\" 200 -\n"
     ]
    }
   ],
   "source": [
    "from flask import Flask, request\n",
    "from philosophy_source import getPathToPhilosophy\n",
    "import json\n",
    "\n",
    "site = Flask('site')\n",
    "\n",
    "path_to_philosophy = []\n",
    "\n",
    "def showIntroAndForm():\n",
    "    return f\"\"\"\n",
    "        <h1>Everything leads to philosophy.</h1>\n",
    "        <h3>Give it a shot.</h3>\n",
    "\n",
    "        <form action=\"/\" method=\"post\">\n",
    "            <input type=\"text\" name=\"articleName\" />\n",
    "            <input type=\"submit\" value=\"Find path!\" />\n",
    "        </form>\n",
    "    \"\"\"\n",
    "\n",
    "def showThePath(articleName):\n",
    "    path_to_philo = getPathToPhilosophy(articleName)\n",
    "    items = [f'<li>{item}</li>' for item in path_to_philo]\n",
    "    return f\"\"\"\n",
    "    <h1>Path to philosophy from {articleName}:</h1>\n",
    "    <ul>\n",
    "        {''.join(items)}\n",
    "    </ul>\n",
    "    \"\"\"\n",
    "\n",
    "@site.route('/', methods=['GET', 'POST'])\n",
    "def home():\n",
    "    if request.method == 'POST':\n",
    "        articleName = request.form['articleName']\n",
    "        return showIntroAndForm() + showThePath(articleName)\n",
    "    else:\n",
    "        return showIntroAndForm()\n",
    "\n",
    "site.run()"
   ]
  },
  {
   "cell_type": "code",
   "execution_count": null,
   "metadata": {},
   "outputs": [],
   "source": []
  }
 ],
 "metadata": {
  "kernelspec": {
   "display_name": "Python 3",
   "language": "python",
   "name": "python3"
  },
  "language_info": {
   "codemirror_mode": {
    "name": "ipython",
    "version": 3
   },
   "file_extension": ".py",
   "mimetype": "text/x-python",
   "name": "python",
   "nbconvert_exporter": "python",
   "pygments_lexer": "ipython3",
   "version": "3.7.3"
  }
 },
 "nbformat": 4,
 "nbformat_minor": 2
}
